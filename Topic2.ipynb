{
  "nbformat": 4,
  "nbformat_minor": 0,
  "metadata": {
    "colab": {
      "provenance": [],
      "gpuType": "T4"
    },
    "kernelspec": {
      "name": "python3",
      "display_name": "Python 3"
    },
    "language_info": {
      "name": "python"
    },
    "accelerator": "GPU"
  },
  "cells": [
    {
      "cell_type": "markdown",
      "source": [
        "# Assignment 2: Bigram Language Model and Generative Pretrained Transformer (GPT)\n",
        "\n",
        "\n",
        "The objective of this assignment is to train a simplified transformer model. The primary differences between the implementation:\n",
        "* tokenizer (we use a character level encoder simplicity and compute constraints)\n",
        "* size (we are using 1 consumer grade gpu hosted on colab and a small dataset. in practice, the models are much larger and are trained on much more data)\n",
        "* efficiency\n",
        "\n",
        "\n",
        "Most modern LLMs have multiple training stages, so we won't get a model that is capable of replying to you yet. However, this is the first step towards a model like ChatGPT and Llama.\n",
        "\n",
        "\n"
      ],
      "metadata": {
        "id": "fYCVVv_1A1kZ"
      }
    },
    {
      "cell_type": "code",
      "execution_count": null,
      "metadata": {
        "id": "F097yaiu7dXQ"
      },
      "outputs": [],
      "source": [
        "%matplotlib inline\n",
        "import torch\n",
        "import numpy as np\n",
        "import matplotlib.pyplot as plt\n",
        "from dataclasses import dataclass\n",
        "from torch import nn\n",
        "from torch.nn import functional as F\n",
        "import torch.optim as optim\n",
        "import torch.nn as nn"
      ]
    },
    {
      "cell_type": "markdown",
      "source": [
        "## Part 1: Bigram MLP for TinyShakespeare (35 points)\n",
        "\n",
        "1a) (1 point). Create a list `chars` that contains all unique characters in `text`\n",
        "\n",
        "1b) (2 points). Implement `encode(s: str) -> list[int]`\n",
        "\n",
        "1c) (2 points). Implement `decode(ids: list[int]) -> str`\n",
        "\n",
        "1d) (5 points). Create two tensors, `inputs_one_hot` and `outputs_one_hot`. Use one hot encoding. Make sure to get every consecutive pair of characters. For example, for the word 'hello', we should create the following input-output pairs\n",
        "```\n",
        "he\n",
        "el\n",
        "ll\n",
        "lo\n",
        "```\n",
        "\n",
        "1e) (10 points). Implement BigramOneHotMLP, a 2 layer MLP that predicts the next token. Specifically, implement the constructor, forward, and generate. The output dimension of the first layer should be 8. Use `torch.optim`. The activation function for the first layer should be `nn.LeakyReLU()`\n",
        "\n",
        "Note: Use the `torch.nn.function.cross_entropy` loss. Read the [docs](https://pytorch.org/docs/stable/generated/torch.nn.functional.cross_entropy.html) about how this loss function works. The logits are the output of a network WITHOUT an activation function applied to the last layer. There are activation functions are applied to every layer except the last.\n",
        "\n",
        "1f) (5 points). Train the BigramOneHotMLP for 1000 steps.\n",
        "\n",
        "1g) (5 points). Create two tensors, `input_ids` and `outputs_one_hot`. These `input_ids` will be used for the embedding layer.\n",
        "\n",
        "1h) (5 points). Implement and train BigramEmbeddingMLP, a 2 layer mlp that predicts the next token. Specifically, implement the constructor, forward, and generate functions. The output dimension of the first layer should be 8. Use `torch.optim`.\n",
        "\n",
        "\n",
        "\n",
        "Note: the output will look like gibberish\n"
      ],
      "metadata": {
        "id": "8qra06Ema_VL"
      }
    },
    {
      "cell_type": "code",
      "source": [
        "!wget https://raw.githubusercontent.com/karpathy/char-rnn/master/data/tinyshakespeare/input.txt"
      ],
      "metadata": {
        "colab": {
          "base_uri": "https://localhost:8080/"
        },
        "id": "5iradmn7bZtM",
        "outputId": "37b1281a-6951-482b-a6d1-49edee865b86"
      },
      "execution_count": null,
      "outputs": [
        {
          "output_type": "stream",
          "name": "stdout",
          "text": [
            "--2024-10-13 03:36:46--  https://raw.githubusercontent.com/karpathy/char-rnn/master/data/tinyshakespeare/input.txt\n",
            "Resolving raw.githubusercontent.com (raw.githubusercontent.com)... 185.199.108.133, 185.199.109.133, 185.199.110.133, ...\n",
            "Connecting to raw.githubusercontent.com (raw.githubusercontent.com)|185.199.108.133|:443... connected.\n",
            "HTTP request sent, awaiting response... 200 OK\n",
            "Length: 1115394 (1.1M) [text/plain]\n",
            "Saving to: ‘input.txt’\n",
            "\n",
            "\rinput.txt             0%[                    ]       0  --.-KB/s               \rinput.txt           100%[===================>]   1.06M  --.-KB/s    in 0.04s   \n",
            "\n",
            "2024-10-13 03:36:46 (29.2 MB/s) - ‘input.txt’ saved [1115394/1115394]\n",
            "\n"
          ]
        }
      ]
    },
    {
      "cell_type": "code",
      "source": [
        "# For the bigram model, let's use the first 1000 characters for the data\n",
        "\n",
        "with open('input.txt', 'r') as f:\n",
        "    text = f.read()\n",
        "text = text[:1000]"
      ],
      "metadata": {
        "id": "pLoVi294G-T-"
      },
      "execution_count": null,
      "outputs": []
    },
    {
      "cell_type": "code",
      "source": [
        "chars = sorted(set(text)) # implement\n",
        "\n",
        "chars2id={c:i for i,c in enumerate(chars)}\n",
        "id2chars={i:c for c,i in chars2id.items()}\n",
        "\n",
        "def encode(s: str) -> list[int]:\n",
        "    # implement\n",
        "    return [chars2id[c] for c in text]\n",
        "    pass\n",
        "\n",
        "def decode(ids: list[int]) -> str:\n",
        "    # implement\n",
        "    return ''.join([id2chars[i] for i in ids])\n",
        "    pass\n",
        "\n",
        "def create_one_hot_inputs_and_outputs() -> list[torch.tensor, torch.tensor]:\n",
        "    # implement\n",
        "    pass\n",
        "\n",
        "def create_one_hot_inputs_and_outputs()->list[torch.tensor, torch.tensor]:\n",
        "    inputs_one_hot=[]\n",
        "    outputs_one_hot=[]\n",
        "    for c1,c2 in zip(text,text[1:]):\n",
        "      inputs_one_hot.append(F.one_hot(torch.tensor(chars2id[c1]), len(chars)))\n",
        "      outputs_one_hot.append(F.one_hot(torch.tensor(chars2id[c2]),len(chars)))\n",
        "    return torch.stack(inputs_one_hot),torch.stack(outputs_one_hot)\n",
        "\n",
        "inputs_one_hot, outputs_one_hot = create_one_hot_inputs_and_outputs()\n",
        "\n",
        "\n",
        "class BigramOneHotMLP(nn.Module):\n",
        "    def __init__(self):\n",
        "        # implement\n",
        "        super().__init__()\n",
        "        self.fc1 = nn.Linear(len(chars), 8)\n",
        "        self.activation = nn.LeakyReLU()\n",
        "        self.fc2 = nn.Linear(8, len(chars))\n",
        "        pass\n",
        "\n",
        "    def forward(self, x):\n",
        "        # implement\n",
        "        x = self.fc1(x)\n",
        "        x = self.activation(x)\n",
        "        x = self.fc2(x)\n",
        "        return x\n",
        "        pass\n",
        "\n",
        "    def generate(self, start='a', max_new_tokens=100) -> str:\n",
        "        # implement\n",
        "        self.eval()\n",
        "        with torch.no_grad():\n",
        "            current_char = start\n",
        "            word = current_char\n",
        "            for _ in range(max_new_tokens):\n",
        "                input_ids = F.one_hot(torch.tensor(chars2id[current_char]), len(chars)).unsqueeze(0).float()\n",
        "                output = self(input_ids)\n",
        "                next_char_id = torch.argmax(output).item()\n",
        "                next_char = [k for k, v in chars2id.items() if v == next_char_id][0]\n",
        "                current_char = next_char\n",
        "                word += current_char\n",
        "            return word\n",
        "        pass\n",
        "\n",
        "bigram_one_hot_mlp = BigramOneHotMLP()\n",
        "\n",
        "generated_word = bigram_one_hot_mlp.generate()\n",
        "print(f'Generated word: {generated_word}')\n",
        "\n",
        "learning_rate = 0.01\n",
        "optimizer = optim.SGD(bigram_one_hot_mlp.parameters(), lr=learning_rate)\n",
        "\n",
        "# training loop\n",
        "for epoch in range(1000):\n",
        "    # implement\n",
        "    optimizer.zero_grad()\n",
        "    predictions = bigram_one_hot_mlp(inputs_one_hot.float())\n",
        "    loss = F.cross_entropy(predictions, outputs_one_hot.float())\n",
        "    loss.backward()\n",
        "    optimizer.step()\n",
        "    #print(f'Epoch {epoch + 1}, Loss: {loss.item()}')\n",
        "    # if epoch%100==0:\n",
        "    #   print(f'Generated word:{bigram_one_hot_mlp.generate()}')\n",
        "    pass\n",
        "\n",
        "\n",
        "\n",
        "print(bigram_one_hot_mlp.generate())\n",
        "print(len(bigram_one_hot_mlp.generate()))"
      ],
      "metadata": {
        "id": "hoMGZgEOdRjt",
        "colab": {
          "base_uri": "https://localhost:8080/"
        },
        "outputId": "945e9a5b-b9be-4578-e68e-5d92ef3426bd"
      },
      "execution_count": null,
      "outputs": [
        {
          "output_type": "stream",
          "name": "stdout",
          "text": [
            "Generated word: awYwYwYwYwYwYwYwYwYwYwYwYwYwYwYwYwYwYwYwYwYwYwYwYwYwYwYwYwYwYwYwYwYwYwYwYwYwYwYwYwYwYwYwYwYwYwYwYwYwY\n",
            "a                                                                                                    \n",
            "101\n"
          ]
        }
      ]
    },
    {
      "cell_type": "code",
      "source": [
        "def create_embedding_inputs_and_outputs() -> list[torch.tensor, torch.tensor]:\n",
        "    # implement\n",
        "    inputs_ids=[]\n",
        "    outputs_one_hot=[]\n",
        "    for c1, c2 in zip(text, text[1:]):\n",
        "        inputs_ids.append(torch.tensor(chars2id[c1]))\n",
        "        outputs_one_hot.append(F.one_hot(torch.tensor(chars2id[c2]), len(chars)))\n",
        "    return torch.stack(inputs_ids), torch.stack(outputs_one_hot)\n",
        "    pass\n",
        "\n",
        "input_ids, outputs_one_hot = create_embedding_inputs_and_outputs()\n",
        "\n",
        "class BigramEmbeddingMLP(nn.Module):\n",
        "    def __init__(self):\n",
        "        # implement\n",
        "        super().__init__()\n",
        "        self.token_embedding=nn.Embedding(len(chars),8)\n",
        "        self.fc1 = nn.Linear(8, 8)\n",
        "        self.activation = nn.LeakyReLU()\n",
        "        self.fc2 = nn.Linear(8, len(chars))\n",
        "        pass\n",
        "\n",
        "    def forward(self, x):\n",
        "        # implement\n",
        "        x = self.token_embedding(x)\n",
        "        x = self.fc1(x)\n",
        "        x = self.activation(x)\n",
        "        x = self.fc2(x)\n",
        "        return x\n",
        "        pass\n",
        "\n",
        "    def generate(self, start='a', max_new_tokens=100) -> str:\n",
        "        # implement\n",
        "        self.eval()\n",
        "        with torch.no_grad():\n",
        "            current_char = start\n",
        "            word = current_char\n",
        "            for _ in range(max_new_tokens):\n",
        "                input_ids = torch.tensor(chars2id[current_char])\n",
        "                output = self(input_ids)\n",
        "                next_char_id = torch.argmax(output).item()\n",
        "                next_char = [k for k, v in chars2id.items() if v == next_char_id][0]\n",
        "                current_char = next_char\n",
        "                word += current_char\n",
        "            return word\n",
        "        pass\n",
        "\n",
        "bigram_embedding_mlp = BigramEmbeddingMLP()\n",
        "generated_word = bigram_embedding_mlp.generate()\n",
        "print(f'Generated word: {generated_word}')\n",
        "\n",
        "learning_rate = 0.01\n",
        "optimizer = optim.SGD(bigram_one_hot_mlp.parameters(), lr=learning_rate)\n",
        "\n",
        "# training loop\n",
        "for _ in range(1000):\n",
        "    # implement\n",
        "    optimizer.zero_grad()\n",
        "    predictions = bigram_one_hot_mlp(inputs_one_hot.float())\n",
        "    loss = F.cross_entropy(predictions, outputs_one_hot.float())\n",
        "    loss.backward()\n",
        "    optimizer.step()\n",
        "    pass\n",
        "\n",
        "\n",
        "print(f'Generated word: {bigram_embedding_mlp.generate()}')"
      ],
      "metadata": {
        "id": "PasrfDz-dSqx",
        "colab": {
          "base_uri": "https://localhost:8080/"
        },
        "outputId": "25370603-23f7-4849-f400-0fd98c2bbbda"
      },
      "execution_count": null,
      "outputs": [
        {
          "output_type": "stream",
          "name": "stdout",
          "text": [
            "Generated word: agggggggggggggggggggggggggggggggggggggggggggggggggggggggggggggggggggggggggggggggggggggggggggggggggggg\n",
            "Generated word: agggggggggggggggggggggggggggggggggggggggggggggggggggggggggggggggggggggggggggggggggggggggggggggggggggg\n"
          ]
        }
      ]
    },
    {
      "cell_type": "markdown",
      "source": [
        "## Part 2: Generative Pretrained Transformer (65 points)\n",
        "\n",
        "For this part, it is best to use a gpu. In the settings at the top go to Runtime -> Change Runtime Type and select T4 GPU"
      ],
      "metadata": {
        "id": "qplpM8_Cbp0s"
      }
    },
    {
      "cell_type": "code",
      "source": [
        "# run nvidia-smi to check gpu usage\n",
        "!nvidia-smi"
      ],
      "metadata": {
        "id": "0Oh-3FeFxxnI",
        "colab": {
          "base_uri": "https://localhost:8080/"
        },
        "outputId": "ad4c5551-4c08-45fd-de08-851f9bd571d0"
      },
      "execution_count": null,
      "outputs": [
        {
          "output_type": "stream",
          "name": "stdout",
          "text": [
            "Sun Oct 13 03:37:07 2024       \n",
            "+---------------------------------------------------------------------------------------+\n",
            "| NVIDIA-SMI 535.104.05             Driver Version: 535.104.05   CUDA Version: 12.2     |\n",
            "|-----------------------------------------+----------------------+----------------------+\n",
            "| GPU  Name                 Persistence-M | Bus-Id        Disp.A | Volatile Uncorr. ECC |\n",
            "| Fan  Temp   Perf          Pwr:Usage/Cap |         Memory-Usage | GPU-Util  Compute M. |\n",
            "|                                         |                      |               MIG M. |\n",
            "|=========================================+======================+======================|\n",
            "|   0  Tesla T4                       Off | 00000000:00:04.0 Off |                    0 |\n",
            "| N/A   37C    P8               9W /  70W |      3MiB / 15360MiB |      0%      Default |\n",
            "|                                         |                      |                  N/A |\n",
            "+-----------------------------------------+----------------------+----------------------+\n",
            "                                                                                         \n",
            "+---------------------------------------------------------------------------------------+\n",
            "| Processes:                                                                            |\n",
            "|  GPU   GI   CI        PID   Type   Process name                            GPU Memory |\n",
            "|        ID   ID                                                             Usage      |\n",
            "|=======================================================================================|\n",
            "|  No running processes found                                                           |\n",
            "+---------------------------------------------------------------------------------------+\n"
          ]
        }
      ]
    },
    {
      "cell_type": "code",
      "source": [
        "# For the gpt model, let's use the full text\n",
        "\n",
        "with open('input.txt', 'r') as f:\n",
        "    text = f.read()"
      ],
      "metadata": {
        "id": "rhJAwCAOADP7"
      },
      "execution_count": null,
      "outputs": []
    },
    {
      "cell_type": "markdown",
      "source": [
        "Implement a character level tokenization function.\n",
        "\n",
        "1. Create a list of unique characters in the string. (1 points)\n",
        "2. Implement a function `encode(s: str) -> list[int]` that takes a string and returns a list of ids (1 point)\n",
        "3. Implement a function `decode(ids: list[int]) -> str` that takes a list of ids (ints) and returns a string (1 point)\n"
      ],
      "metadata": {
        "id": "z_LZpvZ8AEEi"
      }
    },
    {
      "cell_type": "code",
      "source": [
        "chars = sorted(set(text))\n",
        "print(len(chars))\n",
        "chars2id={c:i for i,c in enumerate(chars)}\n",
        "print(chars2id)\n",
        "id2chars={i:c for c,i in chars2id.items()}\n",
        "\n",
        "def encode(s: str) -> list[int]:\n",
        "    return [chars2id[c] for c in text]\n",
        "    pass\n",
        "\n",
        "def decode(ids: list[int]) -> str:\n",
        "    return ''.join([id2chars[i]] for i in ids)\n",
        "    pass"
      ],
      "metadata": {
        "id": "rnEOfMj4Dk4Y",
        "colab": {
          "base_uri": "https://localhost:8080/"
        },
        "outputId": "09eb378b-6db7-46fa-d2e8-514161598431"
      },
      "execution_count": null,
      "outputs": [
        {
          "output_type": "stream",
          "name": "stdout",
          "text": [
            "65\n",
            "{'\\n': 0, ' ': 1, '!': 2, '$': 3, '&': 4, \"'\": 5, ',': 6, '-': 7, '.': 8, '3': 9, ':': 10, ';': 11, '?': 12, 'A': 13, 'B': 14, 'C': 15, 'D': 16, 'E': 17, 'F': 18, 'G': 19, 'H': 20, 'I': 21, 'J': 22, 'K': 23, 'L': 24, 'M': 25, 'N': 26, 'O': 27, 'P': 28, 'Q': 29, 'R': 30, 'S': 31, 'T': 32, 'U': 33, 'V': 34, 'W': 35, 'X': 36, 'Y': 37, 'Z': 38, 'a': 39, 'b': 40, 'c': 41, 'd': 42, 'e': 43, 'f': 44, 'g': 45, 'h': 46, 'i': 47, 'j': 48, 'k': 49, 'l': 50, 'm': 51, 'n': 52, 'o': 53, 'p': 54, 'q': 55, 'r': 56, 's': 57, 't': 58, 'u': 59, 'v': 60, 'w': 61, 'x': 62, 'y': 63, 'z': 64}\n"
          ]
        }
      ]
    },
    {
      "cell_type": "code",
      "source": [
        "data = torch.tensor(encode(text), dtype=torch.long).cuda()"
      ],
      "metadata": {
        "id": "1gyOaRF5Dq1P"
      },
      "execution_count": null,
      "outputs": []
    },
    {
      "cell_type": "code",
      "source": [
        "block_size = 16\n",
        "data[:block_size+1]"
      ],
      "metadata": {
        "colab": {
          "base_uri": "https://localhost:8080/"
        },
        "id": "qvWGi8Mk6x1q",
        "outputId": "d35683e1-c342-4164-fbf3-6c2f63ff276d"
      },
      "execution_count": null,
      "outputs": [
        {
          "output_type": "execute_result",
          "data": {
            "text/plain": [
              "tensor([18, 47, 56, 57, 58,  1, 15, 47, 58, 47, 64, 43, 52, 10,  0, 14, 43],\n",
              "       device='cuda:0')"
            ]
          },
          "metadata": {},
          "execution_count": 13
        }
      ]
    },
    {
      "cell_type": "markdown",
      "source": [
        "To train a transformer, we feed the model `n` tokens (context) and try to predict the `n+1`th token (target) in the sequence.\n",
        "\n"
      ],
      "metadata": {
        "id": "GvO4hSK171Vu"
      }
    },
    {
      "cell_type": "code",
      "source": [
        "x = data[:block_size]\n",
        "y = data[1:block_size+1]\n",
        "for t in range(block_size):\n",
        "    context = x[:t+1]\n",
        "    target = y[t]\n",
        "    print(f\"when input is {context} the target: {target}\")"
      ],
      "metadata": {
        "colab": {
          "base_uri": "https://localhost:8080/"
        },
        "id": "DVWxO6Pa70Lh",
        "outputId": "d10efccf-1816-4205-e9e3-0d1932112065"
      },
      "execution_count": null,
      "outputs": [
        {
          "output_type": "stream",
          "name": "stdout",
          "text": [
            "when input is tensor([18], device='cuda:0') the target: 47\n",
            "when input is tensor([18, 47], device='cuda:0') the target: 56\n",
            "when input is tensor([18, 47, 56], device='cuda:0') the target: 57\n",
            "when input is tensor([18, 47, 56, 57], device='cuda:0') the target: 58\n",
            "when input is tensor([18, 47, 56, 57, 58], device='cuda:0') the target: 1\n",
            "when input is tensor([18, 47, 56, 57, 58,  1], device='cuda:0') the target: 15\n",
            "when input is tensor([18, 47, 56, 57, 58,  1, 15], device='cuda:0') the target: 47\n",
            "when input is tensor([18, 47, 56, 57, 58,  1, 15, 47], device='cuda:0') the target: 58\n",
            "when input is tensor([18, 47, 56, 57, 58,  1, 15, 47, 58], device='cuda:0') the target: 47\n",
            "when input is tensor([18, 47, 56, 57, 58,  1, 15, 47, 58, 47], device='cuda:0') the target: 64\n",
            "when input is tensor([18, 47, 56, 57, 58,  1, 15, 47, 58, 47, 64], device='cuda:0') the target: 43\n",
            "when input is tensor([18, 47, 56, 57, 58,  1, 15, 47, 58, 47, 64, 43], device='cuda:0') the target: 52\n",
            "when input is tensor([18, 47, 56, 57, 58,  1, 15, 47, 58, 47, 64, 43, 52], device='cuda:0') the target: 10\n",
            "when input is tensor([18, 47, 56, 57, 58,  1, 15, 47, 58, 47, 64, 43, 52, 10],\n",
            "       device='cuda:0') the target: 0\n",
            "when input is tensor([18, 47, 56, 57, 58,  1, 15, 47, 58, 47, 64, 43, 52, 10,  0],\n",
            "       device='cuda:0') the target: 14\n",
            "when input is tensor([18, 47, 56, 57, 58,  1, 15, 47, 58, 47, 64, 43, 52, 10,  0, 14],\n",
            "       device='cuda:0') the target: 43\n"
          ]
        }
      ]
    },
    {
      "cell_type": "code",
      "source": [
        "batch_size = 64\n",
        "device = 'cuda' if torch.cuda.is_available() else 'cpu'\n",
        "def get_batch():\n",
        "    ix = torch.randint(len(data) - block_size, (batch_size,))\n",
        "    x = torch.stack([data[i:i+block_size] for i in ix])\n",
        "    y = torch.stack([data[i+1:i+block_size+1] for i in ix])\n",
        "    x, y = x.to(device), y.to(device)\n",
        "    return x, y\n",
        "print(x)\n",
        "print(y)\n"
      ],
      "metadata": {
        "id": "lFYZnm2MuLlt",
        "colab": {
          "base_uri": "https://localhost:8080/"
        },
        "outputId": "b39dec8d-efd3-4f69-d09f-dce3b304c6a8"
      },
      "execution_count": null,
      "outputs": [
        {
          "output_type": "stream",
          "name": "stdout",
          "text": [
            "tensor([18, 47, 56, 57, 58,  1, 15, 47, 58, 47, 64, 43, 52, 10,  0, 14],\n",
            "       device='cuda:0')\n",
            "tensor([47, 56, 57, 58,  1, 15, 47, 58, 47, 64, 43, 52, 10,  0, 14, 43],\n",
            "       device='cuda:0')\n"
          ]
        }
      ]
    },
    {
      "cell_type": "markdown",
      "source": [
        "### Single Self Attention Head (5 points)\n",
        "![](https://i.ibb.co/GWR1XG0/head.png)"
      ],
      "metadata": {
        "id": "-HmnXJjxtm3N"
      }
    },
    {
      "cell_type": "code",
      "source": [
        "class SelfAttentionHead(nn.Module):\n",
        "    def __init__(self, head_size):\n",
        "        super().__init__()\n",
        "        #Linear projections for queries, keys, and values along with head_size output dimensions\n",
        "        self.q_proj = nn.Linear(64, head_size, bias=False)\n",
        "        self.k_proj = nn.Linear(64, head_size, bias=False)\n",
        "        self.v_proj = nn.Linear(64, head_size, bias=False)\n",
        "        self.dropout = nn.Dropout(p=0.5)\n",
        "        pass\n",
        "\n",
        "    def forward(self, x):\n",
        "        B, T, C = x.shape\n",
        "        k = self.k_proj(x)  # (B,T,C)\n",
        "        q = self.q_proj(x)  # (B,T,C)\n",
        "        #perform matrix multiplication between query and key transpose\n",
        "        attention = q @ k.transpose(-2, -1) * C ** -0.5 # (B, T, C) @ (B, C, T) -> (B, T, T)\n",
        "\n",
        "        mask = torch.tril(torch.ones(T, T)).to(device)\n",
        "        # Apply the mask to the attention scores\n",
        "        masked_attention = attention.masked_fill(mask == 0, float('-inf'))\n",
        "        # Apply softmax to get normalized attention weights\n",
        "        masked_attention = F.softmax(masked_attention, dim=-1)  # (B, T, T)\n",
        "        # Apply dropout to the attention weights\n",
        "        masked_attention = self.dropout(masked_attention)\n",
        "\n",
        "        # perform the weighted aggregation of the values\n",
        "        v = self.v_proj(x)  # (B,T,C)\n",
        "        #perform matrix multiplication between values and masked attention to get the output\n",
        "        out = masked_attention @ v  # (B, T, T) @ (B, T, C) -> (B, T, C)\n",
        "        return out\n",
        "        pass\n",
        "attn = SelfAttentionHead(16).to(device)\n",
        "x = torch.randn((8, 32, 64)).float().to(device) #input tensor with shape (batch_size=8, sequence_length=32, input_size=64) and move it to the device\n",
        "print(attn(x).shape)"
      ],
      "metadata": {
        "id": "5SD8Z16R-sfZ",
        "colab": {
          "base_uri": "https://localhost:8080/"
        },
        "outputId": "c1194a42-259a-4e2e-a62a-12d118e5d8f9"
      },
      "execution_count": null,
      "outputs": [
        {
          "output_type": "stream",
          "name": "stdout",
          "text": [
            "torch.Size([8, 32, 16])\n"
          ]
        }
      ]
    },
    {
      "cell_type": "markdown",
      "source": [
        "### Multihead Self Attention (5 points)\n",
        "\n",
        "`constructor`\n",
        "\n",
        "- Create 4 `SelfAttentionHead` instances. Consider using `nn.ModuleList`\n",
        "- Create a linear layer with n_embd input dim and n_embd output dim\n",
        "\n",
        "`forward`\n",
        "\n",
        "In the forward implementation, pass `x` through each head, then concatenate all the outputs along the feature dimension, then pass the concatenated output through the linear layer\n",
        "\n",
        "![](https://i.ibb.co/y5SwyZZ/multihead.png)"
      ],
      "metadata": {
        "id": "LWeoHGBiFpWd"
      }
    },
    {
      "cell_type": "code",
      "source": [
        "class MultiHeadAttention(nn.Module):\n",
        "    def __init__(self, num_heads, head_size):\n",
        "        super().__init__()\n",
        "        self.heads = nn.ModuleList([SelfAttentionHead(head_size) for _ in range(num_heads)])\n",
        "        self.linear = nn.Linear(num_heads*head_size,64)\n",
        "        self.dropout = nn.Dropout(p=0.5)\n",
        "        pass\n",
        "\n",
        "    def forward(self, x):\n",
        "        head_outputs = [head(x) for head in self.heads]\n",
        "        concatenated = torch.cat(head_outputs, dim=-1)\n",
        "\n",
        "        # Pass through linear layer\n",
        "        linear_output = self.linear(concatenated)\n",
        "        linear_output=self.dropout(linear_output)\n",
        "        return linear_output\n",
        "        pass\n",
        "num_heads = 4 # number of heads\n",
        "head_size = 16\n",
        "\n",
        "\n",
        "multi_head_attention = MultiHeadAttention(num_heads, head_size).to(device)\n",
        "\n",
        "# Example\n",
        "x = torch.randn((8, 32, 64)).float().to(device)\n",
        "output = multi_head_attention(x)\n",
        "print(output.shape)\n"
      ],
      "metadata": {
        "id": "gFsPDkpnFs_b",
        "colab": {
          "base_uri": "https://localhost:8080/"
        },
        "outputId": "a8b0883f-82a4-4478-e563-fb9a1708dede"
      },
      "execution_count": null,
      "outputs": [
        {
          "output_type": "stream",
          "name": "stdout",
          "text": [
            "torch.Size([8, 32, 64])\n"
          ]
        }
      ]
    },
    {
      "cell_type": "markdown",
      "source": [
        "## MLP (2 points)\n",
        "Implement a 2 layer MLP\n",
        "\n",
        "\n",
        "![](https://i.ibb.co/C0DtrF5/ff.png)"
      ],
      "metadata": {
        "id": "uH_0ELyZ8YCC"
      }
    },
    {
      "cell_type": "code",
      "source": [
        "class MLP(nn.Module):\n",
        "    def __init__(self):\n",
        "        super().__init__()\n",
        "        # implement\n",
        "        self.fc1 = nn.Linear(64, 256)\n",
        "        self.activation = nn.LeakyReLU()\n",
        "        self.fc2 = nn.Linear(256, 64)\n",
        "        self.dropout = nn.Dropout(p=0.5)\n",
        "        pass\n",
        "\n",
        "    def forward(self, x: torch.tensor) -> torch.tensor:\n",
        "        # implement\n",
        "        x=self.fc1(x)\n",
        "        x=self.activation(x)\n",
        "        x=self.fc2(x)\n",
        "        x=self.dropout(x)\n",
        "        return x\n",
        "        pass\n",
        "\n",
        "x = torch.randn((8, 32, 64)).float()\n",
        "mlp_model=MLP()\n",
        "output = mlp_model(x)\n",
        "print(output.shape)"
      ],
      "metadata": {
        "id": "K96Z3kAv7lNt",
        "colab": {
          "base_uri": "https://localhost:8080/"
        },
        "outputId": "7a262d11-8e22-417a-cead-6477eda7211f"
      },
      "execution_count": null,
      "outputs": [
        {
          "output_type": "stream",
          "name": "stdout",
          "text": [
            "torch.Size([8, 32, 64])\n"
          ]
        }
      ]
    },
    {
      "cell_type": "markdown",
      "source": [
        "## Transformer block (20 points)\n",
        "\n",
        "Layer normalization help training stability by normalizing the outputs of neurons within a single layer across all features for each individual data point, not across a full batch or a specific feature.\n",
        "\n",
        "Dropout is a form of regularization to prevent overfitting.\n",
        "\n",
        "This is the diagram of a transformer block:\n",
        "\n",
        "![](https://i.ibb.co/X85C473/block.png)"
      ],
      "metadata": {
        "id": "bUFxuyf-JIxr"
      }
    },
    {
      "cell_type": "code",
      "source": [
        "class Block(nn.Module):\n",
        "    def __init__(self, n_embd: int, n_head: int):\n",
        "        super().__init__()\n",
        "        self.norm1 = nn.LayerNorm(n_embd)\n",
        "        self.heads=MultiHeadAttention(n_head,16)\n",
        "        self.fc1 = nn.Linear(n_embd, n_embd)\n",
        "        pass\n",
        "\n",
        "    def forward(self, x):\n",
        "        y=self.norm1(x)\n",
        "        y=self.heads(y)\n",
        "        x=x+y\n",
        "        z=self.norm1(x)\n",
        "        z=self.fc1(z)\n",
        "        x=x+z\n",
        "        return x\n",
        "        pass\n",
        "\n",
        "x = torch.randn((8, 32, 64)).float().to(device)\n",
        "tblock=Block(64,4).to(device)\n",
        "output=tblock(x)\n",
        "print(output.shape)"
      ],
      "metadata": {
        "id": "xTDAd66KIvvx",
        "colab": {
          "base_uri": "https://localhost:8080/"
        },
        "outputId": "22e53a87-02a9-45d3-bee8-80ecd903781f"
      },
      "execution_count": null,
      "outputs": [
        {
          "output_type": "stream",
          "name": "stdout",
          "text": [
            "torch.Size([8, 32, 64])\n"
          ]
        }
      ]
    },
    {
      "cell_type": "markdown",
      "source": [
        "## GPT\n",
        "\n",
        "`constructor` (5 points)\n",
        "\n",
        "1. create the token embedding table and the position embedding table\n",
        "2. create variable `self.blocks` that is a series of 4 `Block`s. The data will pass through each block sequentially. Consider using `nn.Sequential`\n",
        "3. create a layer norm layer\n",
        "4. create a linear layer for predicting the next token\n",
        "\n",
        "`forward(self, idx, targets=None)`. (5 points)\n",
        "\n",
        "`forward` takes a batch of context ids as input of size (B, T) and returns the logits and the loss, if targets is not None. If targets is None, return the logits and None.\n",
        "1. get the token by using the token embedding table created in the constructor\n",
        "2. create the position embeddings\n",
        "3. sum the token and position embeddings to get the model input\n",
        "4. pass the model through the blocks, the layernorm layer, and the final linear layer\n",
        "5. compute the loss\n",
        "\n",
        "`generate(start_char, max_new_tokens, top_p, top_k, temperature) -> str` (5 points)\n",
        "1. implement top p, top_k, and temperature for sampling\n",
        "\n"
      ],
      "metadata": {
        "id": "SyFQXltDKNti"
      }
    },
    {
      "cell_type": "markdown",
      "source": [
        "![](https://i.ibb.co/n8sbQ0V/Screenshot-2024-01-23-at-8-59-08-PM.png)"
      ],
      "metadata": {
        "id": "0Xa2bh2XDdKy"
      }
    },
    {
      "cell_type": "code",
      "source": [
        "class GPT(nn.Module):\n",
        "    def __init__(self, n_embd, n_head):\n",
        "        super().__init__()\n",
        "        self.token_embedding = nn.Embedding(len(chars),n_embd)\n",
        "        self.positional_embedding = nn.Embedding(32, n_embd)\n",
        "        self.dropout = nn.Dropout(p=0.5)\n",
        "        self.blocks = nn.Sequential(*[Block(n_embd, n_head) for _ in range(4)])\n",
        "\n",
        "        self.layer_norm = nn.LayerNorm(n_embd)\n",
        "        self.linear = nn.Linear(n_embd, len(chars))\n",
        "\n",
        "\n",
        "    def forward(self, idx, targets=None):\n",
        "        B,T=idx.shape\n",
        "        token_embeddings = self.token_embedding(idx).to(device)\n",
        "        positional_embedding = self.positional_embedding(torch.stack([torch.arange(T) for _ in range(B)], 0).to(device))\n",
        "        x = token_embeddings + positional_embedding\n",
        "        x = self.dropout(x)\n",
        "        x= self.blocks(x)\n",
        "        x = self.layer_norm(x)\n",
        "        logits = self.linear(x)\n",
        "        if targets is None:\n",
        "            loss = None\n",
        "        else:\n",
        "            B, T, C = logits.shape\n",
        "            logits = logits.view(B*T, C)\n",
        "            targets = targets.view(B*T)\n",
        "            loss = F.cross_entropy(logits, targets)\n",
        "        return logits,loss\n",
        "\n",
        "\n",
        "    def generate(self, start_char, max_new_tokens, top_p, top_k, temperature):\n",
        "        self.eval()\n",
        "        with torch.no_grad():\n",
        "            current_seq = torch.tensor([chars2id[start_char]], dtype=torch.long).to(device).unsqueeze(0)\n",
        "            for _ in range(max_new_tokens):\n",
        "                \"\"\"pass the last 32 elements from the tensor \"\"\"\n",
        "                logits, loss = self(current_seq[:, -32:])\n",
        "                logits = logits[:, -1, :]\n",
        "                scaled_logits = logits / temperature\n",
        "                probabilities = F.softmax(scaled_logits, dim=-1)\n",
        "                if top_k is not None:\n",
        "                    sampled_index = top_k_sampling(probabilities, k=top_k)\n",
        "                elif top_p is not None:\n",
        "                    sampled_index = top_p_sampling(probabilities, p=top_p)\n",
        "                sampled_token = torch.tensor([[sampled_index]]).to(device)\n",
        "                current_seq = torch.cat([current_seq, sampled_token], dim=1)\n",
        "\n",
        "        generated_string = ''.join([id2chars[token.item()] for token in current_seq[0]])\n",
        "        return generated_string\n",
        "\n",
        "def top_k_sampling(probabilities, k=5):\n",
        "        \"\"\"\n",
        "        Performs top-k sampling from a probability distribution.\n",
        "        \"\"\"\n",
        "        probabilities = probabilities.cpu().numpy().flatten()\n",
        "        top_k_indices = np.argsort(probabilities)[-k:]\n",
        "        top_k_probabilities = probabilities[top_k_indices]\n",
        "        top_k_probabilities /= top_k_probabilities.sum()\n",
        "        chosen_index = np.random.choice(top_k_indices, p=top_k_probabilities)\n",
        "\n",
        "        return chosen_index\n",
        "\n",
        "def top_p_sampling(probabilities, p=0.9):\n",
        "    \"\"\"\n",
        "    Selects tokens from a probability distribution that have a cumulative probability\n",
        "    greater than the threshold p \"\"\"\n",
        "    probabilities = probabilities.cpu().numpy().flatten()\n",
        "\n",
        "    if len(probabilities) > 1:\n",
        "      sorted_indices = np.argsort(probabilities)[::-1]\n",
        "    else:\n",
        "      sorted_indices = np.argsort(probabilities)\n",
        "\n",
        "    sorted_probabilities = probabilities[sorted_indices]\n",
        "    cumulative_probabilities = np.cumsum(sorted_probabilities)\n",
        "    cutoff_index = np.where(cumulative_probabilities > p)[0][0]\n",
        "\n",
        "    filtered_indices = sorted_indices[:cutoff_index + 1]\n",
        "    filtered_probabilities = sorted_probabilities[:cutoff_index + 1]\n",
        "\n",
        "    filtered_probabilities /= filtered_probabilities.sum()\n",
        "    chosen_index = np.random.choice(filtered_indices, p=filtered_probabilities)\n",
        "\n",
        "    return chosen_index\n",
        "\n",
        "\n",
        "gpt_model = GPT(64, 4).to(device)\n",
        "generated_text = gpt_model.generate(start_char='a', max_new_tokens=100,top_k=None,top_p=0.9, temperature=1.0)\n",
        "print(generated_text)"
      ],
      "metadata": {
        "id": "8WT4oUN084ts",
        "colab": {
          "base_uri": "https://localhost:8080/"
        },
        "outputId": "0b88dc33-b62e-47ec-813d-40ed42745443"
      },
      "execution_count": null,
      "outputs": [
        {
          "output_type": "stream",
          "name": "stdout",
          "text": [
            "aO!pOX.kzgDZwa!XmVhOFRhjBA$YFkSLB,iOldbuMwq:lUVrIvIo.YxFFB&K$QzzzNH,-:KVQLMO;qkstjQ,riCVIFRLlvLpMXKLW\n"
          ]
        }
      ]
    },
    {
      "cell_type": "markdown",
      "source": [
        "### Training loop (15 points)\n",
        "\n",
        "implement training loop"
      ],
      "metadata": {
        "id": "Njzrwwiv-mfB"
      }
    },
    {
      "cell_type": "code",
      "source": [
        "# make you are running this on the GPU\n",
        "gpt_model = GPT(64, 4).to(device)\n",
        "max_iters = 5000\n",
        "learning_rate = 0.001\n",
        "optimizer = optim.SGD(gpt_model.parameters(), lr=learning_rate)\n",
        "for iter in range(max_iters):\n",
        "  optimizer.zero_grad()\n",
        "  xb, yb = get_batch()\n",
        "  logits, loss = gpt_model(xb, yb)\n",
        "  loss.backward()\n",
        "  optimizer.step()\n",
        "  if iter%1000==0:\n",
        "      print(f'Iteration {iter+1}, Loss: {loss.item()}')\n",
        "      print(f'Generated text:{gpt_model.generate(start_char=\"a\", max_new_tokens=100,top_k=5,top_p=None, temperature=1.0)}')\n",
        "\n"
      ],
      "metadata": {
        "id": "qWtn2uTwYUrY",
        "colab": {
          "base_uri": "https://localhost:8080/"
        },
        "outputId": "68d5e388-e551-4d26-b354-e8a9e4cbcde3"
      },
      "execution_count": null,
      "outputs": [
        {
          "output_type": "stream",
          "name": "stdout",
          "text": [
            "Iteration 1, Loss: 4.424371242523193\n",
            "Generated text:apqQHw;lM-liCiCCvPTOqcr;cz:tT:OuMsLMLLbffuLfLNMLNb.CffLN.CC?MuuC?fs?bbtn-NNM,uBbtLbbtbLbfbLNMbLNMbfsL\n",
            "Iteration 1001, Loss: 3.860344409942627\n",
            "Generated text:asmzcne eloool  wneCo\n",
            "Ide,  n$oDIN...CLMsfbIMbIMMbIMMuLbttLMLNMbLbffubfuLLbttINMbLLN.CCMsMLNb.CCCMLNM\n",
            "Iteration 2001, Loss: 3.407477855682373\n",
            "Generated text:ae t e t o too h tone th h and hon ou  tonthettttInthtneMrentortou enbfbffbhaLthaLNththatfuLthtIthant\n",
            "Iteration 3001, Loss: 3.242250680923462\n",
            "Generated text:a th orterooreanootoo\n",
            " ho h hilserthoue tth thoustorenotathtarsthe athenottthtthtenotnototthttthenter\n",
            "Iteration 4001, Loss: 3.097386598587036\n",
            "Generated text:an theot  ta\n",
            " orer has orile t  othfursthonensnbarnerthorstttotenenouerttthore hftor thatoththone the\n"
          ]
        }
      ]
    },
    {
      "cell_type": "markdown",
      "source": [
        "### Generate text\n",
        "\n",
        "\n",
        "print some text that your model generates"
      ],
      "metadata": {
        "id": "zy3v8Nv7YVUa"
      }
    },
    {
      "cell_type": "code",
      "source": [
        "print(gpt_model.generate(start_char=\"a\", max_new_tokens=100,top_k=5,top_p=None, temperature=1.0))"
      ],
      "metadata": {
        "id": "5l4soWviWG5M",
        "colab": {
          "base_uri": "https://localhost:8080/"
        },
        "outputId": "88c74df0-2a25-40f6-d8ea-9791957df53d"
      },
      "execution_count": null,
      "outputs": [
        {
          "output_type": "stream",
          "name": "stdout",
          "text": [
            "as or o or a t tthane, a inte hesnernethethensthantane othe andte hesernttonotonenthesfthouretasentab\n"
          ]
        }
      ]
    }
  ]
}